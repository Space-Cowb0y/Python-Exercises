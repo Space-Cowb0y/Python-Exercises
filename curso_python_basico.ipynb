{
  "nbformat": 4,
  "nbformat_minor": 0,
  "metadata": {
    "colab": {
      "name": "curso_python_basico.ipynb",
      "provenance": [],
      "collapsed_sections": [],
      "toc_visible": true
    },
    "kernelspec": {
      "name": "python3",
      "display_name": "Python 3"
    }
  },
  "cells": [
    {
      "cell_type": "markdown",
      "metadata": {
        "id": "qPOQA1TbCZMR"
      },
      "source": [
        "# Exercicios do Curso Python Básico\n",
        "\n",
        "\n",
        "\n"
      ]
    },
    {
      "cell_type": "markdown",
      "metadata": {
        "id": "2PgT7aWMDL1h"
      },
      "source": [
        "#Função print()\n",
        "Crie um programa que exiba na tela o seguinte resultado:\n",
        "\n",
        "*   Hello, world\n",
        "*   Python é fácil\n",
        "*   Isto é uma string\n",
        "\n",
        "\n"
      ]
    },
    {
      "cell_type": "code",
      "metadata": {
        "id": "z5ln1sKYDfBu"
      },
      "source": [
        "#Escreva sua resposta aqui\n"
      ],
      "execution_count": null,
      "outputs": []
    },
    {
      "cell_type": "markdown",
      "metadata": {
        "id": "7n5yGycCgzd0"
      },
      "source": [
        "Clique duas vezes em resolução (ou pressione \"Enter\") para visualizar"
      ]
    },
    {
      "cell_type": "code",
      "metadata": {
        "id": "Et0iaIe4Dz2u",
        "cellView": "form"
      },
      "source": [
        "#@title Resolução \n",
        "print('Hello, world')\n",
        "print('Python é fácil')\n",
        "print('Isto é uma string')"
      ],
      "execution_count": null,
      "outputs": []
    },
    {
      "cell_type": "markdown",
      "metadata": {
        "id": "BqW1WV2zKytm"
      },
      "source": [
        "# Variáveis\n",
        "\n",
        "Crie duas variáveis recebendo as seguintes frases:\n",
        "*   Variaveis\n",
        "*   podem receber strings\n",
        "\n",
        "Realize a soma das duas variaveis e imprima o resultado na tela, como o exemplo abaixo.\n",
        "\n",
        "variavel1 + variavel2 = Variáveis podem receber strings\n"
      ]
    },
    {
      "cell_type": "code",
      "metadata": {
        "id": "Idky5BvnGKvY"
      },
      "source": [
        "#Escreva sua resposta aqui\n"
      ],
      "execution_count": null,
      "outputs": []
    },
    {
      "cell_type": "markdown",
      "metadata": {
        "id": "O_dSrB9bgYfs"
      },
      "source": [
        "Clique duas vezes em resolução (ou pressione \"Enter\") para visualizar.\n",
        "\n"
      ]
    },
    {
      "cell_type": "code",
      "metadata": {
        "id": "xl8lfwc4X9nD",
        "cellView": "form"
      },
      "source": [
        "#@title Resolução \n",
        "variavel1 = \"Variáveis\"\n",
        "variavel2 = \" podem receber strings\"\n",
        "soma = variavel1 + variavel2\n",
        "print(\"variavel1 + variavel2 = %s\"%soma) \n",
        "#Outra opção\n",
        "#print(\"variavel1 + variavel2 = %s\"%(variavel1+variavel2))"
      ],
      "execution_count": null,
      "outputs": []
    },
    {
      "cell_type": "markdown",
      "metadata": {
        "id": "htEnRfiTb7Xu"
      },
      "source": [
        "# Função input()\n",
        "\n",
        "Crie um programa que:\n",
        " \n",
        "\n",
        "*   Peça ao usuário o seu nome, sua idade e um número float\n",
        "*   Realize a soma da sua idade com este número e imprima o resultado\n",
        "*   Receba uma string com a entrada pelo teclado e exiba essa string em tela\n",
        "\n",
        "\n",
        "Lembre-se de usar as funções int() e float()"
      ]
    },
    {
      "cell_type": "code",
      "metadata": {
        "id": "Rty_jtXzgMQp"
      },
      "source": [
        "#Escreva sua resposta aqui\n"
      ],
      "execution_count": null,
      "outputs": []
    },
    {
      "cell_type": "markdown",
      "metadata": {
        "id": "eGGaLoQKbMBD"
      },
      "source": [
        "Clique duas vezes em resolução (ou pressione \"Enter\") para visualizar\n",
        "\n"
      ]
    },
    {
      "cell_type": "code",
      "metadata": {
        "id": "6ZZFB7akYIuG",
        "cellView": "form"
      },
      "source": [
        "#@title Resolução \n",
        "nome = input(\"Digite seu nome: \")\n",
        "idade = int(input(\"Digite sua idade: \"))\n",
        "myfloat = float(input(\"Digite um numero decimal (e.g. 1.5): \"))\n",
        "myString = input(\"Digite uma string: \")\n",
        "\n",
        "print(\"Os resultados são:\")\n",
        "print(idade + myfloat)\n",
        "print(myString)"
      ],
      "execution_count": null,
      "outputs": []
    },
    {
      "cell_type": "markdown",
      "metadata": {
        "id": "gYvH-_0skb4q"
      },
      "source": [
        "# Listas\n",
        "\n",
        "Crie duas listas:\n",
        " \n",
        "*   uma contendo três números\n",
        "*   outra com três nomes\n",
        "\n",
        "adicione a essas listas mais um valor e mais uma string, respectivamente, utilizando o .append().\n",
        "\n",
        "*   Crie uma variável e atribua a ela o valor da terceira posição da lista de nomes,lembre-se que para criar uma lista deve utilizar colchetes\n",
        "*   Remova a primeira entrada da lista de números\n",
        "*   Imprima na tela o conteúdo das duas listas e da variável.\n",
        "\n",
        "\n",
        "Dica: A indexação em Python começa em 0.\n"
      ]
    },
    {
      "cell_type": "code",
      "metadata": {
        "id": "YUfUdYiiksuI"
      },
      "source": [
        "#Escreva sua resposta aqui"
      ],
      "execution_count": null,
      "outputs": []
    },
    {
      "cell_type": "markdown",
      "metadata": {
        "id": "RaVrKonKkx4-"
      },
      "source": [
        "Clique duas vezes em resolução (ou pressione \"Enter\") para visualizar"
      ]
    },
    {
      "cell_type": "code",
      "metadata": {
        "id": "QIvB-5rHk3qS",
        "cellView": "form"
      },
      "source": [
        "#@title Resolução \n",
        "lista1=[1,2,3]\n",
        "lista2=[\"A\",\"B\",\"C\"]\n",
        "\n",
        "lista1.append(1000)\n",
        "lista2.append(\"Carcassonne\")\n",
        "\n",
        "aux = lista2[2]\n",
        "lista1.remove(1)\n",
        "\n",
        "print(lista1)\n",
        "print(lista2)\n",
        "print(aux)"
      ],
      "execution_count": null,
      "outputs": []
    },
    {
      "cell_type": "markdown",
      "metadata": {
        "id": "hDcwBgEaDLe0"
      },
      "source": [
        "# Operadores\n",
        "\n",
        "*   Crie duas variáveis e atribua a elas um valor numérico, string ou cálculo.\n",
        "*   Crie duas listas e atribua a elas 20 instâncias das variáveis criadas anteriormente.\n",
        "*   Crie uma terceira lista e junte as 40 instâncias nesta lista.\n",
        "\n",
        "\n",
        "\n",
        "\n"
      ]
    },
    {
      "cell_type": "code",
      "metadata": {
        "id": "KZXISbT6g3YL"
      },
      "source": [
        "#Escreva sua resposta aqui"
      ],
      "execution_count": null,
      "outputs": []
    },
    {
      "cell_type": "markdown",
      "metadata": {
        "id": "U9-r0rLAg6Y9"
      },
      "source": [
        "Clique duas vezes em resolução (ou pressione \"Enter\") para visualizar"
      ]
    },
    {
      "cell_type": "code",
      "metadata": {
        "id": "xO_yZQp8g9cn",
        "cellView": "form"
      },
      "source": [
        "#@title Resolução \n",
        "x = 1\n",
        "y = 0\n",
        "\n",
        "x_list=[x] * 20 \n",
        "y_list=[y] * 20\n",
        "\n",
        "#z_list = [x_list + y_list]\n",
        "z_list = x_list + y_list\n",
        "\n",
        "print(z_list)"
      ],
      "execution_count": null,
      "outputs": []
    },
    {
      "cell_type": "markdown",
      "metadata": {
        "id": "Uvpfg1gfDO8_"
      },
      "source": [
        "# Condicionais\n",
        "\n",
        "Mude o código abaixo para que todos os resultados sejam iguais a True."
      ]
    },
    {
      "cell_type": "code",
      "metadata": {
        "id": "TgDjma2fjo7P",
        "outputId": "2409c65a-7c00-4a94-8eef-7f5cb896b320",
        "colab": {
          "base_uri": "https://localhost:8080/",
          "height": 129
        }
      },
      "source": [
        "#Escreva sua resposta \n",
        "x = [] #mude aquí\n",
        "nome = \"Bruno\"\n",
        "numero = 0 #adicine mais uma instância de número\n",
        "numeroo = \n",
        "if(x[0] and x[0]): #usando a \"and\"\n",
        "    print(\"é True\")\n",
        "if(x[0] or x[1]): #usando a \"or\"\n",
        "    print(\"é True\")\n",
        "if(\"B\" in nome): #procure uma letra contida em nome\n",
        "    print(\"o nome existe\")\n",
        "if(): #usando a nova variável e is com numero\"\n",
        "    print(\"essa é a mesma instância de número\")"
      ],
      "execution_count": null,
      "outputs": [
        {
          "output_type": "error",
          "ename": "SyntaxError",
          "evalue": "ignored",
          "traceback": [
            "\u001b[0;36m  File \u001b[0;32m\"<ipython-input-4-9aad979a0f9d>\"\u001b[0;36m, line \u001b[0;32m5\u001b[0m\n\u001b[0;31m    numeroo =\u001b[0m\n\u001b[0m              ^\u001b[0m\n\u001b[0;31mSyntaxError\u001b[0m\u001b[0;31m:\u001b[0m invalid syntax\n"
          ]
        }
      ]
    },
    {
      "cell_type": "markdown",
      "metadata": {
        "id": "Y8IQzKOUjprV"
      },
      "source": [
        "Clique duas vezes em resolução (ou pressione \"Enter\") para visualizar"
      ]
    },
    {
      "cell_type": "code",
      "metadata": {
        "id": "kBgBNYPjjrIJ",
        "cellView": "form"
      },
      "source": [
        "#@title Resolução\n",
        "x = [True, False] \n",
        "nome = \"Bruno\"\n",
        "numero = 0 \n",
        "numeroo = numero\n",
        "if(x[0] and x[0]):\n",
        "    print(\"é True\")\n",
        "if(x[0] or x[1]): \n",
        "    print(\"é True\")\n",
        "if(\"B\" in nome): \n",
        "    print(\"o nome existe\")\n",
        "if(numeroo is numero): \n",
        "    print(\"essa é a mesma instância de número\")\n"
      ],
      "execution_count": null,
      "outputs": []
    },
    {
      "cell_type": "markdown",
      "metadata": {
        "id": "6BZ8F9ENDTA1"
      },
      "source": [
        "# Loops\n",
        "\n",
        "Dado a lista:\n",
        "\n",
        "`x = [1,2,3,4,5,6,7,8,9,10,11,,12,13,14,15,16,17,18,19,20]`\n",
        "\n",
        "Crie um loop que exiba em tela todos os números primos.\n"
      ]
    },
    {
      "cell_type": "code",
      "metadata": {
        "id": "q7RordFClZ7f"
      },
      "source": [
        "#Escreva sua resposta aqui"
      ],
      "execution_count": null,
      "outputs": []
    },
    {
      "cell_type": "markdown",
      "metadata": {
        "id": "fhg5ChHZlaTP"
      },
      "source": [
        "Clique duas vezes em resolução (ou pressione \"Enter\") para visualizar"
      ]
    },
    {
      "cell_type": "code",
      "metadata": {
        "id": "0Q8dIkjQlayA",
        "cellView": "form",
        "outputId": "5a463060-62cc-4344-f4dd-4d1e86d71b8b",
        "colab": {
          "base_uri": "https://localhost:8080/",
          "height": 34
        }
      },
      "source": [
        "#@title Resolução\n",
        "x = [1,2,3,4,5,6,7,8,9,10,11,12,13,14,15,16,17,18,19,20]\n",
        "primos = []\n",
        "for i in x:\n",
        "  aux = 0\n",
        "  for j in range(1,i):\n",
        "    if i%j == 0:\n",
        "      aux += 1\n",
        "  if aux == 1:\n",
        "    primos.append(i) \n",
        "print(primos)"
      ],
      "execution_count": null,
      "outputs": [
        {
          "output_type": "stream",
          "text": [
            "[2, 3, 5, 7, 11, 13, 17, 19]\n"
          ],
          "name": "stdout"
        }
      ]
    },
    {
      "cell_type": "markdown",
      "metadata": {
        "id": "0VsuQkeJDUYn"
      },
      "source": [
        "# Funções\n",
        "\n",
        "Crie uma função que retorna a string “eu aprendi Python”\n",
        "\n",
        "Crie uma função que retorne a string “e os benefícios de criar funções”\n",
        "\n",
        "Junte os dois resultados e exibe em tela.\n"
      ]
    },
    {
      "cell_type": "code",
      "metadata": {
        "id": "gCO8qYVA1PF1"
      },
      "source": [
        "#Escreva sua resposta aqui"
      ],
      "execution_count": null,
      "outputs": []
    },
    {
      "cell_type": "markdown",
      "metadata": {
        "id": "oHUtzjjI1PiF"
      },
      "source": [
        "Clique duas vezes em resolução (ou pressione \"Enter\") para visualizar"
      ]
    },
    {
      "cell_type": "code",
      "metadata": {
        "id": "CxBFcwF51QWK",
        "cellView": "form"
      },
      "source": [
        "#@title Resolução\n",
        "def s():\n",
        "  return \"eu aprendi python\"\n",
        "\n",
        "def t():\n",
        "  return \" e os beneficios de criar funçoes\"\n",
        "\n",
        "x = s()\n",
        "y = t()\n",
        "\n",
        "z = x + y\n",
        "print(z)"
      ],
      "execution_count": null,
      "outputs": []
    },
    {
      "cell_type": "markdown",
      "metadata": {
        "id": "AW3OaZh1DYaI"
      },
      "source": [
        "# Dicionários\n",
        "\n",
        "Utilizando o exemplo da lista telefônica, adicione mais um contato de nome “Restaurante” com o número “934753676” e remova Evelyn da lista de contatos e imprima o resultado.\n",
        "\n",
        "\n",
        "```\n",
        "phonebook = {\n",
        "    \"Bruno\" : 938477566,\n",
        "    \"Fernanda\" : 938377264,\n",
        "    \"Evelyn\" : 947662781\n",
        "}\n",
        "```\n",
        "\n",
        "\n"
      ]
    },
    {
      "cell_type": "code",
      "metadata": {
        "id": "T9etj9vt12iy"
      },
      "source": [
        "#Escreva sua resposta aqui"
      ],
      "execution_count": null,
      "outputs": []
    },
    {
      "cell_type": "markdown",
      "metadata": {
        "id": "9ghCDKMq13Mi"
      },
      "source": [
        "Clique duas vezes em resolução (ou pressione \"Enter\") para visualizar"
      ]
    },
    {
      "cell_type": "code",
      "metadata": {
        "id": "aIJQkFwT15p8",
        "cellView": "form"
      },
      "source": [
        "#@title Resolução\n",
        "phonebook = {\n",
        "    \"Bruno\" : 938477566,\n",
        "    \"Fernanda\" : 938377264,\n",
        "    \"Evelyn\" : 947662781\n",
        "}\n",
        "\n",
        "phonebook[\"Restaurante\"] = 934753676\n",
        "del phonebook[\"Evelyn\"]\n",
        "print(phonebook)"
      ],
      "execution_count": null,
      "outputs": []
    },
    {
      "cell_type": "code",
      "metadata": {
        "id": "Ym8uRX7JkPY0"
      },
      "source": [
        ""
      ],
      "execution_count": null,
      "outputs": []
    }
  ]
}